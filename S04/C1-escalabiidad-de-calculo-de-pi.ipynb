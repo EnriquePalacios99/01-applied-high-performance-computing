{
 "cells": [
  {
   "cell_type": "markdown",
   "id": "50174ad4",
   "metadata": {},
   "source": [
    "##### Escalabilidad de cálculo de Pi"
   ]
  },
  {
   "cell_type": "markdown",
   "id": "c828ae11",
   "metadata": {},
   "source": [
    "```\n",
    "# Recuerda instalar esto antes\n",
    "sudo apt update\n",
    "sudo apt install libmpich-dev  # For MPICH\n",
    "pip install mpi4py\n",
    "\n",
    "```"
   ]
  },
  {
   "cell_type": "code",
   "execution_count": 4,
   "id": "bd15e43f",
   "metadata": {},
   "outputs": [],
   "source": [
    "from mpi4py import MPI\n",
    "import time\n",
    "import math"
   ]
  },
  {
   "cell_type": "code",
   "execution_count": 6,
   "metadata": {},
   "outputs": [
    {
     "ename": "NameError",
     "evalue": "name 'rank' is not defined",
     "output_type": "error",
     "traceback": [
      "\u001b[31m---------------------------------------------------------------------------\u001b[39m",
      "\u001b[31mNameError\u001b[39m                                 Traceback (most recent call last)",
      "\u001b[36mCell\u001b[39m\u001b[36m \u001b[39m\u001b[32mIn[6]\u001b[39m\u001b[32m, line 15\u001b[39m\n\u001b[32m     12\u001b[39m dx = \u001b[32m1.0\u001b[39m / nsteps\n\u001b[32m     14\u001b[39m \u001b[38;5;66;03m# se definen parametros de particionamiento de datos en el maestro\u001b[39;00m\n\u001b[32m---> \u001b[39m\u001b[32m15\u001b[39m \u001b[38;5;28;01mif\u001b[39;00m \u001b[43mrank\u001b[49m == \u001b[32m0\u001b[39m:\n\u001b[32m     16\u001b[39m     \u001b[38;5;66;03m# tamanho de cada sub-dominio\u001b[39;00m\n\u001b[32m     17\u001b[39m     ave, res = \u001b[38;5;28mdivmod\u001b[39m(nsteps, nprocs)\n\u001b[32m     18\u001b[39m     counts = [ave + \u001b[32m1\u001b[39m \u001b[38;5;28;01mif\u001b[39;00m p < res \u001b[38;5;28;01melse\u001b[39;00m ave \u001b[38;5;28;01mfor\u001b[39;00m p \u001b[38;5;129;01min\u001b[39;00m \u001b[38;5;28mrange\u001b[39m(nprocs)]\n",
      "\u001b[31mNameError\u001b[39m: name 'rank' is not defined"
     ]
    }
   ],
   "source": [
    "\n",
    "t0 = time.time()\n",
    "\n",
    "# 1. Inicialice el universo de procesos y parametros \n",
    "#    rank (id del proceso) y nproc (numero de procesos)\n",
    "#    . . .\n",
    "\n",
    "\n",
    "\n",
    "# 2. cantidad de intervalos de integracion\n",
    "nsteps = 16232234234 # use cantidades variables desde 2^10 a 2^24\n",
    "# ancho de cada intervalo (eje x)\n",
    "dx = 1.0 / nsteps\n",
    "\n",
    "# se definen parametros de particionamiento de datos en el maestro\n",
    "if rank == 0:\n",
    "    # tamanho de cada sub-dominio\n",
    "    ave, res = divmod(nsteps, nprocs)\n",
    "    counts = [ave + 1 if p < res else ave for p in range(nprocs)]\n",
    "\n",
    "    # inicio y fin de indices de cada sub-dominio\n",
    "    starts = [sum(counts[:p]) for p in range(nprocs)]\n",
    "    ends = [sum(counts[:p+1]) for p in range(nprocs)]\n",
    "\n",
    "    # se almacena inicio y fin en data\n",
    "    data = [(starts[p], ends[p]) for p in range(nprocs)]\n",
    "else:\n",
    "    data = None\n",
    "\n",
    "# 3. se distribuyen los datos entre procesos (scatter)\n",
    "#    utilice comm.scatter(...)\n",
    "\n",
    "# cada proceso realiza un calculo parcial (integracion)\n",
    "partial_pi = 0.0\n",
    "for i in range(data[0], data[1]):\n",
    "    x = (i + 0.5) * dx\n",
    "    partial_pi += 4.0 / (1.0 + x * x)\n",
    "partial_pi *= dx\n",
    "\n",
    "# 4. se recolectan resultados parciales \n",
    "#    use comm.gather(...)\n",
    "\n",
    "# calculo del resultado final en el maestro\n",
    "if rank == 0:\n",
    "    print('pi computed in {:.3f} sec'.format(time.time() - t0))\n",
    "    print('error is {}'.format(abs(sum(partial_pi) - math.pi)))"
   ]
  },
  {
   "cell_type": "markdown",
   "id": "7da6cf05",
   "metadata": {},
   "source": [
    "Ya visto el código ejecuta el archito pi.skel.py en el terminal "
   ]
  },
  {
   "cell_type": "code",
   "execution_count": null,
   "id": "35df6963",
   "metadata": {},
   "outputs": [],
   "source": [
    "    \n",
    "sudo apt update\n",
    "sudo apt install vim\n",
    "\n",
    "vim pi.py\n",
    "vim pi.skel.py\n",
    "\n",
    "mpirun -n 2 python3 pi.skel.py\n",
    "mpirun -n 8 python3 pi.py\n",
    "mpirun -n 16 python3 pi.py\n",
    "mpirun -n 2 python3 tarea01.py\n",
    "mpiexec --oversubscribe -n 2 python tarea01.py\n"
   ]
  },
  {
   "cell_type": "markdown",
   "id": "e6d1c3e8",
   "metadata": {},
   "source": []
  }
 ],
 "metadata": {
  "kernelspec": {
   "display_name": "Python 3",
   "language": "python",
   "name": "python3"
  },
  "language_info": {
   "codemirror_mode": {
    "name": "ipython",
    "version": 3
   },
   "file_extension": ".py",
   "mimetype": "text/x-python",
   "name": "python",
   "nbconvert_exporter": "python",
   "pygments_lexer": "ipython3",
   "version": "3.12.1"
  }
 },
 "nbformat": 4,
 "nbformat_minor": 5
}
